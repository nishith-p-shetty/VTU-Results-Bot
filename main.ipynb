{
 "cells": [
  {
   "cell_type": "code",
   "execution_count": 40,
   "id": "9ab2fc18-7dd7-4026-bf29-9112ee849e96",
   "metadata": {
    "tags": []
   },
   "outputs": [],
   "source": [
    "import requests\n",
    "import html\n",
    "import pandas as pd\n",
    "from time import sleep\n",
    "from bs4 import BeautifulSoup\n",
    "from collections import Counter\n",
    "\n",
    "exam = \"5 Semester\"\n",
    "college = {\"CS\": 3, \"CI\": 2, \"IS\": 3, \"AD\": 3, \"EC\": 3}\n",
    "\n",
    "def grade_point(m, c):\n",
    "    if m >= 90:\n",
    "        return (c * 10)\n",
    "    elif m >= 80:\n",
    "        return (c * 9)\n",
    "    elif m >= 70:\n",
    "        return (c * 8)\n",
    "    elif m >= 60:\n",
    "        return (c * 7)\n",
    "    elif m >= 45:\n",
    "        return (c * 6)\n",
    "    elif m >= 40:\n",
    "        return (c * 4)\n",
    "    else :\n",
    "        return (c * 0)\n",
    "\n",
    "def sgpa (marks):\n",
    "    credits = [3, 3, 3, 3, 3, 1, 1, 2, 1]\n",
    "    points = 0\n",
    "\n",
    "    for x in range(len(marks)):\n",
    "        points += grade_point(marks[x], credits[x])\n",
    "    \n",
    "    return (points / sum(credits))\n"
   ]
  },
  {
   "cell_type": "code",
   "execution_count": 42,
   "id": "b6973d0c-2fed-463b-8b0c-eb71cbbf13ba",
   "metadata": {
    "tags": []
   },
   "outputs": [
    {
     "name": "stdout",
     "output_type": "stream",
     "text": [
      "Token  :  8dca8e8e3e44fdca7bca3d89b94ff8b0c4405457\n",
      "Cookie :  iv9ckd6fmq5a57sgdkjpori4akvihaetb2m3601g8l7rhlt75gusp81mgefmi3521u56is4u8nspc3juum7fvitfale7qoq7c3g5h81\n"
     ]
    }
   ],
   "source": [
    "TOKEN = input(\"Token  : \")\n",
    "COOKIE = input(\"Cookie : \")"
   ]
  },
  {
   "cell_type": "code",
   "execution_count": 43,
   "id": "2217e897-e248-456c-a06e-1b7d3e71c811",
   "metadata": {
    "tags": []
   },
   "outputs": [
    {
     "name": "stdout",
     "output_type": "stream",
     "text": [
      "Captcha :  RkYAme\n"
     ]
    }
   ],
   "source": [
    "CAPCHA = input(\"Captcha : \")"
   ]
  },
  {
   "cell_type": "code",
   "execution_count": 44,
   "id": "0ab01e26-2e43-4b98-aa01-7f8e83d192e4",
   "metadata": {
    "tags": []
   },
   "outputs": [],
   "source": [
    "URL = \"https://results.vtu.ac.in/DJcbcs24/resultpage.php\"\n",
    "HEADERS = {\n",
    "    'Host': 'results.vtu.ac.in',\n",
    "    'Cookie': 'VISRE='+COOKIE,\n",
    "    'Content-Length': '80',\n",
    "    'Cache-Control': 'max-age=0',\n",
    "    'Sec-Ch-Ua': '\" Not A;Brand\";v=\"99\", \"Chromium\";v=\"96\"',\n",
    "    'Sec-Ch-Ua-Mobile': '?0',\n",
    "    'Sec-Ch-Ua-Platform': '\"Linux\"',\n",
    "    'Upgrade-Insecure-Requests': '1',\n",
    "    'Origin': 'https://results.vtu.ac.in',\n",
    "    'Dnt': '1',\n",
    "    'Content-Type': 'application/x-www-form-urlencoded',\n",
    "    'User-Agent': 'Mozilla/5.0 (Windows NT 10.0; Win64; x64) AppleWebKit/537.36 (KHTML, like Gecko) Chrome/96.0.4664.45 Safari/537.36',\n",
    "    'Accept': 'text/html,application/xhtml+xml,application/xml;q=0.9,image/avif,image/webp,image/apng,*/*;q=0.8,application/signed-exchange;v=b3;q=0.9',\n",
    "    'Sec-Fetch-Site': 'same-origin',\n",
    "    'Sec-Fetch-Mode': 'navigate',\n",
    "    'Sec-Fetch-User': '?1',\n",
    "    'Sec-Fetch-Dest': 'document',\n",
    "    'Referer': 'https://results.vtu.ac.in/DJcbcs24/index.php',\n",
    "    'Accept-Encoding': 'gzip, deflate',\n",
    "    'Accept-Language': 'en-US,en;q=0.9',\n",
    "    'Connection': 'close'\n",
    "}"
   ]
  },
  {
   "cell_type": "code",
   "execution_count": 45,
   "id": "a2f2f9c6-d494-422a-9f09-089b27f886e2",
   "metadata": {
    "tags": []
   },
   "outputs": [
    {
     "name": "stderr",
     "output_type": "stream",
     "text": [
      "/Library/Frameworks/Python.framework/Versions/3.11/lib/python3.11/site-packages/urllib3/connectionpool.py:1099: InsecureRequestWarning: Unverified HTTPS request is being made to host 'results.vtu.ac.in'. Adding certificate verification is strongly advised. See: https://urllib3.readthedocs.io/en/latest/advanced-usage.html#tls-warnings\n",
      "  warnings.warn(\n",
      "/Library/Frameworks/Python.framework/Versions/3.11/lib/python3.11/site-packages/urllib3/connectionpool.py:1099: InsecureRequestWarning: Unverified HTTPS request is being made to host 'results.vtu.ac.in'. Adding certificate verification is strongly advised. See: https://urllib3.readthedocs.io/en/latest/advanced-usage.html#tls-warnings\n",
      "  warnings.warn(\n",
      "/Library/Frameworks/Python.framework/Versions/3.11/lib/python3.11/site-packages/urllib3/connectionpool.py:1099: InsecureRequestWarning: Unverified HTTPS request is being made to host 'results.vtu.ac.in'. Adding certificate verification is strongly advised. See: https://urllib3.readthedocs.io/en/latest/advanced-usage.html#tls-warnings\n",
      "  warnings.warn(\n",
      "/Library/Frameworks/Python.framework/Versions/3.11/lib/python3.11/site-packages/urllib3/connectionpool.py:1099: InsecureRequestWarning: Unverified HTTPS request is being made to host 'results.vtu.ac.in'. Adding certificate verification is strongly advised. See: https://urllib3.readthedocs.io/en/latest/advanced-usage.html#tls-warnings\n",
      "  warnings.warn(\n",
      "/Library/Frameworks/Python.framework/Versions/3.11/lib/python3.11/site-packages/urllib3/connectionpool.py:1099: InsecureRequestWarning: Unverified HTTPS request is being made to host 'results.vtu.ac.in'. Adding certificate verification is strongly advised. See: https://urllib3.readthedocs.io/en/latest/advanced-usage.html#tls-warnings\n",
      "  warnings.warn(\n",
      "/Library/Frameworks/Python.framework/Versions/3.11/lib/python3.11/site-packages/urllib3/connectionpool.py:1099: InsecureRequestWarning: Unverified HTTPS request is being made to host 'results.vtu.ac.in'. Adding certificate verification is strongly advised. See: https://urllib3.readthedocs.io/en/latest/advanced-usage.html#tls-warnings\n",
      "  warnings.warn(\n",
      "/Library/Frameworks/Python.framework/Versions/3.11/lib/python3.11/site-packages/urllib3/connectionpool.py:1099: InsecureRequestWarning: Unverified HTTPS request is being made to host 'results.vtu.ac.in'. Adding certificate verification is strongly advised. See: https://urllib3.readthedocs.io/en/latest/advanced-usage.html#tls-warnings\n",
      "  warnings.warn(\n",
      "/Library/Frameworks/Python.framework/Versions/3.11/lib/python3.11/site-packages/urllib3/connectionpool.py:1099: InsecureRequestWarning: Unverified HTTPS request is being made to host 'results.vtu.ac.in'. Adding certificate verification is strongly advised. See: https://urllib3.readthedocs.io/en/latest/advanced-usage.html#tls-warnings\n",
      "  warnings.warn(\n",
      "/Library/Frameworks/Python.framework/Versions/3.11/lib/python3.11/site-packages/urllib3/connectionpool.py:1099: InsecureRequestWarning: Unverified HTTPS request is being made to host 'results.vtu.ac.in'. Adding certificate verification is strongly advised. See: https://urllib3.readthedocs.io/en/latest/advanced-usage.html#tls-warnings\n",
      "  warnings.warn(\n",
      "/Library/Frameworks/Python.framework/Versions/3.11/lib/python3.11/site-packages/urllib3/connectionpool.py:1099: InsecureRequestWarning: Unverified HTTPS request is being made to host 'results.vtu.ac.in'. Adding certificate verification is strongly advised. See: https://urllib3.readthedocs.io/en/latest/advanced-usage.html#tls-warnings\n",
      "  warnings.warn(\n",
      "/Library/Frameworks/Python.framework/Versions/3.11/lib/python3.11/site-packages/urllib3/connectionpool.py:1099: InsecureRequestWarning: Unverified HTTPS request is being made to host 'results.vtu.ac.in'. Adding certificate verification is strongly advised. See: https://urllib3.readthedocs.io/en/latest/advanced-usage.html#tls-warnings\n",
      "  warnings.warn(\n",
      "/Library/Frameworks/Python.framework/Versions/3.11/lib/python3.11/site-packages/urllib3/connectionpool.py:1099: InsecureRequestWarning: Unverified HTTPS request is being made to host 'results.vtu.ac.in'. Adding certificate verification is strongly advised. See: https://urllib3.readthedocs.io/en/latest/advanced-usage.html#tls-warnings\n",
      "  warnings.warn(\n",
      "/Library/Frameworks/Python.framework/Versions/3.11/lib/python3.11/site-packages/urllib3/connectionpool.py:1099: InsecureRequestWarning: Unverified HTTPS request is being made to host 'results.vtu.ac.in'. Adding certificate verification is strongly advised. See: https://urllib3.readthedocs.io/en/latest/advanced-usage.html#tls-warnings\n",
      "  warnings.warn(\n",
      "/Library/Frameworks/Python.framework/Versions/3.11/lib/python3.11/site-packages/urllib3/connectionpool.py:1099: InsecureRequestWarning: Unverified HTTPS request is being made to host 'results.vtu.ac.in'. Adding certificate verification is strongly advised. See: https://urllib3.readthedocs.io/en/latest/advanced-usage.html#tls-warnings\n",
      "  warnings.warn(\n"
     ]
    }
   ],
   "source": [
    "with pd.ExcelWriter(exam+\".xlsx\", engine='openpyxl') as writer:\n",
    "    for course, nos in college.items():\n",
    "        usn_array=[]\n",
    "        name_array = []\n",
    "        result_array = []\n",
    "        sgpa_array = []\n",
    "        total_array = []\n",
    "        percentage_array = []\n",
    "        for n in range(0,nos):\n",
    "            usn = '1DB21' + course + str(n+1).zfill(3)\n",
    "            PAYLOAD = 'Token='+TOKEN+'&lns='+usn+'&captchacode='+CAPCHA\n",
    "            response = requests.post(url = URL, headers= HEADERS, data=PAYLOAD, verify=False)\n",
    "            sleep(1)\n",
    "            response = html.unescape(response.text)\n",
    "            response = BeautifulSoup(response, 'html.parser').text\n",
    "            response = response.replace(\"\\t\", \"\")\n",
    "            response = response.strip()\n",
    "            response = response.replace(\"\\n\\n\\n\", \"\\n\")\n",
    "            response = response.replace(\"\\n\\n\", \"\\n\")\n",
    "            response = response.replace(\"\\n\\n\\n\", \"\\n\")\n",
    "            response = response.replace(\"\\n\\n\", \"\\n\")\n",
    "            response = response.replace(\" : \", \"\")\n",
    "            response = response.replace(\": \", \"\")\n",
    "            response = response.split(\"\\n\")\n",
    "            del response[78:]\n",
    "            del response[:3]\n",
    "            frequency = Counter(response)\n",
    "            frequency = dict(frequency)\n",
    "            result = (\"PASS\" if frequency['P'] == 8  else \"FAIL\")\n",
    "            # result = \"0\"\n",
    "            usn_array.append(response[1])\n",
    "            name_array.append(response[3])\n",
    "            result_array.append(result)\n",
    "            total = 0\n",
    "            pos = 16\n",
    "            marks = []\n",
    "            for i in range(8):\n",
    "                total = total + int(response[pos])\n",
    "                marks.append(int(response[pos]))\n",
    "                pos = pos+7\n",
    "            \n",
    "            total_array.append(total)\n",
    "            percentage_array.append(total/9)\n",
    "            if result == \"PASS\":\n",
    "                sgpa_array.append(sgpa(marks))\n",
    "            else:\n",
    "                sgpa_array.append(0)\n",
    "        df = pd.DataFrame({\n",
    "            'USN':usn_array,\n",
    "            'Name':name_array,\n",
    "            'Result':result_array,\n",
    "            'SGPA':sgpa_array,\n",
    "            'Total':total_array,\n",
    "            '%':percentage_array\n",
    "        })\n",
    "        df.to_excel(writer, sheet_name=course, index=False)\n",
    "        sleep(5)"
   ]
  },
  {
   "cell_type": "code",
   "execution_count": null,
   "id": "2dd9019f-b24d-46e5-9740-5fc14f6caae1",
   "metadata": {},
   "outputs": [],
   "source": []
  }
 ],
 "metadata": {
  "kernelspec": {
   "display_name": "Python 3 (ipykernel)",
   "language": "python",
   "name": "python3"
  },
  "language_info": {
   "codemirror_mode": {
    "name": "ipython",
    "version": 3
   },
   "file_extension": ".py",
   "mimetype": "text/x-python",
   "name": "python",
   "nbconvert_exporter": "python",
   "pygments_lexer": "ipython3",
   "version": "3.11.2"
  }
 },
 "nbformat": 4,
 "nbformat_minor": 5
}
